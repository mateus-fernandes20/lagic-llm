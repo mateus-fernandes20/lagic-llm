{
 "cells": [
  {
   "cell_type": "code",
   "execution_count": 1,
   "id": "eb8b9a71-a98e-46e1-b954-a7fd708a1418",
   "metadata": {},
   "outputs": [],
   "source": [
    "from langchain_community.llms import Ollama\n",
    "llm = Ollama(model=\"llama2\")"
   ]
  },
  {
   "cell_type": "code",
   "execution_count": 2,
   "id": "bd0f7a61-3a01-420d-9e14-ad2adf279c56",
   "metadata": {},
   "outputs": [],
   "source": [
    "from langchain_core.prompts import ChatPromptTemplate\n",
    "prompt = ChatPromptTemplate.from_messages([\n",
    "    (\"system\", \"You are an expert data science.\"),\n",
    "    (\"user\", \"{input}\")\n",
    "])\n",
    "\n",
    "chain = prompt | llm "
   ]
  },
  {
   "cell_type": "code",
   "execution_count": 3,
   "id": "51f1f333-9994-4a22-9ea5-9c5bb0087472",
   "metadata": {},
   "outputs": [],
   "source": [
    "from langchain_core.output_parsers import StrOutputParser\n",
    "\n",
    "output_parser = StrOutputParser()"
   ]
  },
  {
   "cell_type": "code",
   "execution_count": 4,
   "id": "7a3e16ae-ac36-4ff9-b81a-5393bfab5ccd",
   "metadata": {},
   "outputs": [],
   "source": [
    "chain = prompt | llm | output_parser"
   ]
  },
  {
   "cell_type": "code",
   "execution_count": 5,
   "id": "f3d9e244-a674-45da-9af1-e29a3a11c44b",
   "metadata": {},
   "outputs": [
    {
     "data": {
      "text/plain": [
       "'\\nAs an expert in data science, I can tell you that data refers to the information or facts that are collected, stored, and analyzed to gain insights and make informed decisions. Data can come in various forms, including:\\n\\n1. Numbers: Quantitative data is numerical data that can be measured and represented using numbers, such as sales figures, customer demographics, or stock prices.\\n2. Words: Qualitative data is non-numerical information that can provide context and meaning to the quantitative data, such as customer feedback, survey responses, or text data from social media platforms.\\n3. Images: Visual data is information that is represented using images, such as photos, videos, or graphics.\\n4. Time-series data: This type of data is collected over time and can be used to analyze patterns and trends, such as stock prices, website traffic, or sensor readings.\\n5. Sensor data: Data collected from sensors, such as temperature, humidity, or GPS location, can provide valuable insights into various phenomena.\\n6. Network data: Data collected from network sources, such as social networks, can provide information on patterns of behavior, opinions, and trends.\\n7. Text data: This type of data is derived from textual sources, such as documents, emails, or web pages, and can be analyzed using natural language processing techniques.\\n8. Audio data: Data collected from audio sources, such as speeches or music, can provide insights into patterns of sound and speech.\\n9. Video data: Data collected from video sources, such as videos uploaded to YouTube or security cameras, can provide insights into visual content and behavior.\\n10. Location data: Data collected from location-based sources, such as GPS devices or Wi-Fi hotspots, can provide information on spatial patterns and trends.\\n\\nIn summary, data can come in many forms, each with its unique characteristics and potential applications. As a data scientist, it is important to understand the different types of data and how they can be analyzed and used to gain insights and make informed decisions.'"
      ]
     },
     "execution_count": 5,
     "metadata": {},
     "output_type": "execute_result"
    }
   ],
   "source": [
    "chain.invoke({\"input\": \"define data\"})"
   ]
  },
  {
   "cell_type": "code",
   "execution_count": 48,
   "id": "2aa562fa-51de-422c-92d3-83fa53ed408a",
   "metadata": {},
   "outputs": [
    {
     "name": "stdout",
     "output_type": "stream",
     "text": [
      "dados: {\"DATA\": \"01-02-2023\", \"CADERNO\": 1, \"PAGINA\": 1, \"NOME\": \"PODER EXECUTIVO\", \"PUBLICACAO\": 4, \"TEXTO\": \"DECRETO N\\u00ba35.296, de 31 de janeiro de 2023.REDENOMINA O CENTRO DE FORMA\\u00c7\\u00c3O DE PROFESSORES DO ESTADO MARIA NELI SOBREIRA DE OLIVEIRA, QUE PASSA A DENOMINAR-SE CENTRO DE FORMA\\u00c7\\u00c3O E DESENVOLVIMENTO PARA OS PROFISSIONAIS DA EDUCA\\u00c7\\u00c3O DO ESTADO DO CEAR\\u00c1 PROF\\u00aa. MARIA NELI SOBREIRA DE OLIVEIRA \\u2013 FORMACE, NO MUNIC\\u00cdPIO DE FORTALEZA/CE E D\\u00c1 OUTRAS PROVID\\u00caNCIAS.O GOVERNADOR DO ESTADO DO CEAR\\u00c1, no uso das atribui\\u00e7\\u00f5es que lhe confere o Art. 88, incisos IV e VI, da Constitui\\u00e7\\u00e3o do Estado e CONSIDERANDO o Art. 84, incisos I a XIII, do Decreto n\\u00ba 35.048, de 14 de dezembro de 2022 e CONSIDERANDO a necessidade de atender \\u00e0 comunidade escolar, DECRETA:Art.1\\u00ba Fica redenominado, na estrutura organizacional da Secretaria da Educa\\u00e7\\u00e3o do Estado do Cear\\u00e1, o CENTRO DE FORMA\\u00c7\\u00c3O DE PROFESSORES DO ESTADO MARIA NELI SOBREIRA DE OLIVEIRA, localizado no Munic\\u00edpio de Fortaleza/CE, denominado pela Lei n\\u00ba 17.918, de 09 de fevereiro de 2022, publicada no Di\\u00e1rio Oficial do Estado, em 11 de fevereiro de 2022, inclu\\u00eddo na estrutura organizacional da Secretaria da Educa\\u00e7\\u00e3o do Estado do Cear\\u00e1 pelo Decreto n\\u00ba 34.606, de 28 de mar\\u00e7o de 2022, publicado no Di\\u00e1rio Oficial do Estado, em 28 de mar\\u00e7o de 2022, pela Portaria n\\u00ba 0256/2022 \\u2013 GAB, publicada no Di\\u00e1rio Oficial do Estado, em 04 de abril de 2022, e pelo Decreto n\\u00ba 35.048, de 14 de dezembro de 2022, publicado no Di\\u00e1rio Oficial do Estado, em 15 de dezembro de 2022, que passa a denominar-se: CENTRO DE FORMA\\u00c7\\u00c3O E DESENVOLVIMENTO PARA OS PROFISSIONAIS DA EDUCA\\u00c7\\u00c3O DO ESTADO DO CEAR\\u00c1 PROF\\u00aa. MARIA NELI SOBREIRA DE OLIVEIRA \\u2013 FORMACE.Art. 2\\u00ba Este Decreto entra em vigor na data de sua publica\\u00e7\\u00e3o, revogadas as disposi\\u00e7\\u00f5es em contr\\u00e1rio.PAL\\u00c1CIO DA ABOLI\\u00c7\\u00c3O DO GOVERNO DO ESTADO DO CEAR\\u00c1, em Fortaleza, 31 de janeiro de 2023.Elmano de Freitas da CostaGOVERNADOR DO ESTADO DO CEAR\\u00c1\", \"LISTANEGRITO\": [\"DECRETO N\\u00ba35.296\", \"REDENOMINA O CENTRO DE FORMA\\u00c7\\u00c3O DE PROFESSORES DO ESTADO MARIA NELI SOBREIRA DE OLIVEIRA, QUE PASSA A DENOMINAR-SE CENTRO DE FORMA\\u00c7\\u00c3O E DESENVOLVIMENTO PARA OS PROFISSIONAIS DA EDUCA\\u00c7\\u00c3O DO ESTADO DO CEAR\\u00c1 PROF\\u00aa. MARIA NELI SOBREIRA DE OLIVEIRA \\u2013 FORMACE, NO MUNIC\\u00cdPIO DE FORTALEZA/CE E D\\u00c1 OUTRAS PROVID\\u00caNCIAS.\"]}\n",
      "{'source': '/home/mateusfernandes/llm/jsons/01-02-2023.json', 'seq_num': 1}\n"
     ]
    }
   ],
   "source": [
    "from langchain_community.embeddings import OllamaEmbeddings\n",
    "import os, json\n",
    "import pandas as pd\n",
    "from langchain_community.document_loaders.csv_loader import CSVLoader\n",
    "from pathlib import Path\n",
    "from langchain_community.document_loaders import JSONLoader\n",
    "\n",
    "file_path='jsons/01-02-2023.json'\n",
    "data = json.loads(Path(file_path).read_text())\n",
    "loader = JSONLoader(\n",
    "         file_path=file_path,\n",
    "         jq_schema='.[]',\n",
    "         text_content=False)\n",
    "\n",
    "docs = loader.load()\n",
    "print(\"dados:\",docs[3].page_content[:])\n",
    "print(docs[0].metadata)\n",
    "\n",
    "#data = pd.read_csv(\"data.csv\")\n",
    "#print(data[10].page_content[:])\n",
    "\n",
    "embeddings = OllamaEmbeddings()"
   ]
  },
  {
   "cell_type": "code",
   "execution_count": 51,
   "id": "1ab26439-662e-4622-9895-e2218bc01f6b",
   "metadata": {},
   "outputs": [],
   "source": [
    "from langchain_community.vectorstores import FAISS\n",
    "from langchain_text_splitters import RecursiveCharacterTextSplitter\n",
    "\n",
    "\n",
    "text_splitter = RecursiveCharacterTextSplitter()\n",
    "documents = text_splitter.split_documents(docs)\n",
    "vector = FAISS.from_documents(documents, embeddings)"
   ]
  },
  {
   "cell_type": "code",
   "execution_count": 52,
   "id": "40c23ed7-0ed0-464f-b739-2c0766ed3ddb",
   "metadata": {},
   "outputs": [],
   "source": [
    "#geração de regex genericas com agrupamento de queries\n",
    "\n",
    "from langchain.chains import create_retrieval_chain\n",
    "\n",
    "from langchain.chains.combine_documents import create_stuff_documents_chain\n",
    "\n",
    "prompt = ChatPromptTemplate.from_template(\"\"\"Answer the following question based only on the provided context:\n",
    "\n",
    "<context>\n",
    "{context}\n",
    "</context>\n",
    "\n",
    "Question: {input}\"\"\")\n",
    "\n",
    "document_chain = create_stuff_documents_chain(llm, prompt)\n",
    "\n",
    "retriever = vector.as_retriever()\n",
    "retrieval_chain = create_retrieval_chain(retriever, document_chain)"
   ]
  },
  {
   "cell_type": "code",
   "execution_count": 56,
   "id": "0c86dd3d-94ce-41de-bc9d-a61ca7ecf5c3",
   "metadata": {},
   "outputs": [
    {
     "name": "stdout",
     "output_type": "stream",
     "text": [
      "\n",
      "Based on the given context, it is possible to gain several insights from the database related to government:\n",
      "\n",
      "1. Government spending patterns: By analyzing the database, you can identify how much money is being spent by the government on different sectors such as healthcare, education, defense, and infrastructure. This could help in understanding the government's priorities and allocation of resources.\n",
      "2. Political trends: The database may contain information on political parties, their ideologies, and their performance in elections. This could provide insights into the political landscape and how it has evolved over time.\n",
      "3. Public opinion surveys: The database may include surveys or polls that gauge public opinion on various issues related to government policies, such as crime rates, taxation, and public safety. This could help in understanding what the general population thinks about the government's performance and priorities.\n",
      "4. Government efficiency: By analyzing the database, you could assess how efficiently the government is functioning, for instance, by evaluating the time taken to process citizens' applications or the effectiveness of different government programs.\n",
      "5. Corruption and misconduct: The database may contain information on corruption cases or instances of misconduct within the government. This could provide valuable insights into the level of transparency and accountability within the government.\n",
      "6. Economic indicators: The database may include data on economic indicators such as GDP growth rate, inflation rate, and employment rates. This could help in understanding the impact of government policies on the economy and how they affect different sectors of society.\n",
      "7. Social welfare programs: By analyzing the database, you could evaluate the effectiveness of social welfare programs such as health insurance, education, and housing support. This could provide valuable insights into how the government is addressing issues related to poverty and inequality.\n",
      "8. Public-private partnerships: The database may contain information on collaborations between the government and private organizations to achieve public goals. This could provide insights into the potential benefits and challenges of such partnerships.\n",
      "9. International relations: The database may include data on international agreements, treaties, and diplomatic relations between the government and other countries. This could help in understanding how the government interacts with other nations and how these interactions affect domestic policies.\n",
      "10. Historical context: By analyzing the database over time, you could gain insights into how the government's priorities have evolved, what factors have driven these changes, and how they have impacted society.\n"
     ]
    }
   ],
   "source": [
    "from langchain_core.documents import Document\n",
    "\n",
    "print(document_chain.invoke({\n",
    "    \"input\": \"Quais insights é possível retornar a partir desses dados?\",\n",
    "    \"context\": [Document(page_content=\"Esse é um banco de dados a respeito do governo\")]\n",
    "}))"
   ]
  },
  {
   "cell_type": "code",
   "execution_count": 55,
   "id": "71ad4729-27f4-4df4-a92f-3824e425e6bd",
   "metadata": {},
   "outputs": [
    {
     "name": "stdout",
     "output_type": "stream",
     "text": [
      "\n",
      "O banco de dados que você forneceu é um extrato de um processo de alteração de preços dos itens 09 e 10, relativos a uma geladeira com capacidade de 260 litros, além de outros itens como bebedouro coluna, filtro purificador, etc.\n",
      "\n",
      "O extrato contém informações sobre a data do protocolo (27/06/2022), a data da assinatura (20/12/2022) e a vigência do extrato (a partir da data do protocolo). Além disso, está incluído o nome do responsável pela gestão do processo (Adriano Sarquis Bezerra de Menezes), o representante legal da empresa (Guilherme Henrique da Silva Brand\\u00e3o) e o orientador da c\\u00c9ula de gest\\u00c3o de registro de preços (Soraya Quixad\\u00e1 Bezerra).\n",
      "\n",
      "O extrato também contém informações sobre os itens que são objeto da alteração de preços, incluindo o nome dos itens, o preço original e o novo preço. Por exemplo, os itens 09 e 10 têm o preço original de R$ 1.533,80 e o novo preço de R$ 1.890,00.\n",
      "\n",
      "Em geral, este banco de dados representa uma situação de alteração de preços para itens relacionados a um processo de registro de preços em um determinado período de tempo.\n"
     ]
    }
   ],
   "source": [
    "response = retrieval_chain.invoke({\"input\": \"Qual o conteúdo desse banco de dados?\"})\n",
    "print(response[\"answer\"])"
   ]
  },
  {
   "cell_type": "code",
   "execution_count": 57,
   "id": "f71dfa52-c181-49c1-bb05-2eb476e99c77",
   "metadata": {},
   "outputs": [
    {
     "name": "stdout",
     "output_type": "stream",
     "text": [
      "\n",
      "O banco de dados apresentado é uma resolução do Gabinete do Controle Geral de Disciplina, do Estado do Ceará, no Brasil. É um documento que estabelece a instauração de um processo administrativo disciplinar contra o auxilier de percepção Diones Gomes dos Santos, por uma conduta atentatória aos direitos humanos fundamentais e desonrosa, não havendo sido condenado em outros infrações disciplinares nos últimos 5 anos.\n",
      "\n",
      "A resolução destaca que a tramitação prioritária dos procedimentos administrativos disciplinares envolvendo vítimas de violência doméstica disciplinar está sendo tratada pela Portaria CGD N\\u00ba404/2022, publicada no DOE N\\u00ba176 em 30 de agosto de 2022. Além disso, é estabelecido que o processo disciplinar será instalado em uma comissão permanente formada pelos delegados de Polícia Civil Milena Martins Monteiro, Rafael Bezerra Cardoso e Escrivão de Polícia Civil Cleodon Pereira Nobre Júnior.\n",
      "\n",
      "No geral, a resolução estabelece as seguintes decisões:\n",
      "\n",
      "1. Instauration do processo administrativo disciplinar para apurar a conduta do auxilier de percepção Diones Gomes dos Santos;\n",
      "2. Designação da comissão permanente formada pelos delegados de Polícia Civil Milena Martins Monteiro, Rafael Bezerra Cardoso e Escrivão de Polícia Civil Cleodon Pereira Nobre Júnior para lidar com o processo disciplinar;\n",
      "3. Publicação do processo administrativo disciplinar no Diário Oficial do Estado do Ceará, de acordo com o artigo 34 da Portaria CGD N\\u00ba33.447, publicado no DOE 021 em 30 de janeiro de 2020.\n",
      "\n",
      "Em resumo, a resolução estabelece as medidas disciplinares a serem tomadas contra o auxilier de percepção Diones Gomes dos Santos por sua conduta atentatória aos direitos humanos fundamentais e desonrosa, não havendo sido condenado em outros infrações disciplinares nos últimos 5 anos.\n"
     ]
    }
   ],
   "source": [
    "response = retrieval_chain.invoke({\"input\": \"Qual a idéia geral a respeito desse banco de dados?\"})\n",
    "print(response[\"answer\"])"
   ]
  },
  {
   "cell_type": "code",
   "execution_count": 12,
   "id": "02af9285-f0b1-44f2-b31f-f3e02479ff12",
   "metadata": {},
   "outputs": [
    {
     "ename": "SyntaxError",
     "evalue": "invalid syntax (2021891032.py, line 1)",
     "output_type": "error",
     "traceback": [
      "\u001b[0;36m  Cell \u001b[0;32mIn[12], line 1\u001b[0;36m\u001b[0m\n\u001b[0;31m    import { ChatOllama } from \"@langchain/community/chat_models/ollama\";\u001b[0m\n\u001b[0m           ^\u001b[0m\n\u001b[0;31mSyntaxError\u001b[0m\u001b[0;31m:\u001b[0m invalid syntax\n"
     ]
    }
   ],
   "source": [
    "import { ChatOllama } from \"@langchain/community/chat_models/ollama\";\n",
    "\n",
    "const chatModel = new ChatOllama({\n",
    "  baseUrl: \"http://localhost:11434\", // Default value\n",
    "  model: \"mistral\",\n",
    "});"
   ]
  },
  {
   "cell_type": "code",
   "execution_count": null,
   "id": "47dc47d4-0117-43c4-968d-8d2bc441ff72",
   "metadata": {},
   "outputs": [],
   "source": []
  }
 ],
 "metadata": {
  "kernelspec": {
   "display_name": "Python 3 (ipykernel)",
   "language": "python",
   "name": "python3"
  },
  "language_info": {
   "codemirror_mode": {
    "name": "ipython",
    "version": 3
   },
   "file_extension": ".py",
   "mimetype": "text/x-python",
   "name": "python",
   "nbconvert_exporter": "python",
   "pygments_lexer": "ipython3",
   "version": "3.8.10"
  }
 },
 "nbformat": 4,
 "nbformat_minor": 5
}
