{
 "cells": [
  {
   "cell_type": "code",
   "execution_count": 1,
   "id": "eb8b9a71-a98e-46e1-b954-a7fd708a1418",
   "metadata": {},
   "outputs": [],
   "source": [
    "from langchain_community.llms import Ollama\n",
    "llm = Ollama(model=\"llama2\")"
   ]
  },
  {
   "cell_type": "code",
   "execution_count": 2,
   "id": "bd0f7a61-3a01-420d-9e14-ad2adf279c56",
   "metadata": {},
   "outputs": [],
   "source": [
    "from langchain_core.prompts import ChatPromptTemplate\n",
    "prompt = ChatPromptTemplate.from_messages([\n",
    "    (\"system\", \"You are an expert data science.\"),\n",
    "    (\"user\", \"{input}\")\n",
    "])\n",
    "\n",
    "chain = prompt | llm "
   ]
  },
  {
   "cell_type": "code",
   "execution_count": 3,
   "id": "51f1f333-9994-4a22-9ea5-9c5bb0087472",
   "metadata": {},
   "outputs": [],
   "source": [
    "from langchain_core.output_parsers import StrOutputParser\n",
    "\n",
    "output_parser = StrOutputParser()"
   ]
  },
  {
   "cell_type": "code",
   "execution_count": 4,
   "id": "7a3e16ae-ac36-4ff9-b81a-5393bfab5ccd",
   "metadata": {},
   "outputs": [],
   "source": [
    "chain = prompt | llm | output_parser"
   ]
  },
  {
   "cell_type": "code",
   "execution_count": 5,
   "id": "f3d9e244-a674-45da-9af1-e29a3a11c44b",
   "metadata": {},
   "outputs": [
    {
     "data": {
      "text/plain": [
       "'\\nAs an expert in data science, I can tell you that data refers to any information or facts that are collected, stored, and analyzed to gain insights or make informed decisions. Data can come in various forms, including numerical, textual, image, audio, and video. It can be structured or unstructured, and it can originate from a variety of sources, such as databases, spreadsheets, files, social media platforms, sensors, devices, and more.\\n\\nData can be used for various purposes, including:\\n\\n1. Analysis: Data is analyzed to identify patterns, trends, and relationships within the data itself or in comparison to other datasets.\\n2. Modeling: Data is used to build models that can simulate real-world phenomena or make predictions about future events.\\n3. Decision-making: Data is used to inform decisions based on its analysis and interpretation.\\n4. Visualization: Data is visualized to help communicate insights and findings in a more accessible and engaging manner.\\n5. Optimization: Data is used to optimize processes, such as improving the efficiency of business operations or personalizing user experiences.\\n6. Prediction: Data is used to make predictions about future events or outcomes based on patterns and trends identified within the data.\\n7. Personalization: Data is used to personalize content, recommendations, or advertising based on individual characteristics or behaviors.\\n8. Scientific research: Data is used to conduct scientific experiments, collect data for academic studies, or test hypotheses in various fields of science.\\n9. Business intelligence: Data is used to gain insights into business operations, customer behavior, and market trends.\\n10. Social good: Data is used to address social issues, such as poverty, inequality, and environmental sustainability, by analyzing and visualizing data to identify patterns and trends that can inform decision-making.\\n\\nIn summary, data refers to any information or facts that are collected, stored, and analyzed to gain insights or make informed decisions. It can come in various forms, originate from different sources, and be used for a wide range of purposes, including analysis, modeling, decision-making, visualization, optimization, prediction, personalization, scientific research, business intelligence, and social good.'"
      ]
     },
     "execution_count": 5,
     "metadata": {},
     "output_type": "execute_result"
    }
   ],
   "source": [
    "chain.invoke({\"input\": \"define data\"})"
   ]
  },
  {
   "cell_type": "code",
   "execution_count": 6,
   "id": "2aa562fa-51de-422c-92d3-83fa53ed408a",
   "metadata": {},
   "outputs": [
    {
     "name": "stdout",
     "output_type": "stream",
     "text": [
      "['03-06-2024.csv', '02-03-2023.csv', '02-01-2024.csv', '01-08-2024.csv', '03-10-2023.csv', '03-01-2023.csv', '04-04-2023.csv', '03-05-2024.csv', '02-04-2024.csv', '01-07-2024.csv', '04-01-2023.csv', '01-04-2024.csv', '03-03-2023.csv', '01-09-2023.csv', '04-03-2024.csv', '04-08-2023.csv', '03-08-2023.csv', '02-01-2023.csv', '01-08-2023.csv', '02-08-2023.csv', '03-02-2023.csv', '02-02-2023.csv', '04-05-2023.csv', '01-11-2023.csv', '02-09-2024.csv', '02-05-2023.csv', '04-07-2023.csv', '04-01-2024.csv', '01-02-2023.csv', '01-02-2024.csv', '03-04-2023.csv', '02-07-2024.csv', '01-03-2023.csv', '03-09-2024.csv', '02-08-2024.csv', '03-05-2023.csv', '02-10-2023.csv', '04-07-2024.csv', '03-07-2023.csv', '02-05-2024.csv', '03-07-2024.csv', '02-06-2023.csv', '02-02-2024.csv', '03-01-2024.csv', '03-04-2024.csv', '01-06-2023.csv', '01-03-2024.csv', '01-12-2023.csv', '04-04-2024.csv', '04-06-2024.csv']\n"
     ]
    }
   ],
   "source": [
    "from langchain_community.embeddings import OllamaEmbeddings\n",
    "import os, json\n",
    "import pandas as pd\n",
    "from langchain_community.document_loaders.csv_loader import CSVLoader\n",
    "\n",
    "path_to_json = 'jsons/'\n",
    "json_files = [pos_json for pos_json in os.listdir(path_to_json) if pos_json.endswith('.json')]\n",
    "##print(json_files)\n",
    "\n",
    "for json_file in json_files:\n",
    "    json_file_path = os.path.join(path_to_json, json_file)\n",
    "    \n",
    "    df = pd.read_json(json_file_path)\n",
    "\n",
    "    csv_file_path = os.path.join(path_to_json, json_file.replace('.json', '.csv'))\n",
    "\n",
    "    df.to_csv(csv_file_path, index=False)\n",
    "\n",
    "csv_files = [pos_json for pos_json in os.listdir(path_to_json) if pos_json.endswith('.csv')]\n",
    "print(csv_files)\n",
    "\n",
    "loader = CSVLoader(file_path='jsons/01-02-2023.csv',\n",
    "    csv_args={\n",
    "    'delimiter': ',',\n",
    "    'quotechar': '\"',\n",
    "    'fieldnames': ['DATA', 'CADERNO', 'PAGINA', 'NOME', 'PUBLICACAO', 'TEXTO', 'LISTANEGRITO']\n",
    "})\n",
    "\n",
    "data = loader.load()\n",
    "\n",
    "embeddings = OllamaEmbeddings()"
   ]
  },
  {
   "cell_type": "code",
   "execution_count": 7,
   "id": "1ab26439-662e-4622-9895-e2218bc01f6b",
   "metadata": {},
   "outputs": [],
   "source": [
    "from langchain_community.vectorstores import FAISS\n",
    "from langchain_text_splitters import RecursiveCharacterTextSplitter\n",
    "\n",
    "\n",
    "text_splitter = RecursiveCharacterTextSplitter()\n",
    "documents = text_splitter.split_documents(data)\n",
    "vector = FAISS.from_documents(documents, embeddings)"
   ]
  },
  {
   "cell_type": "code",
   "execution_count": 8,
   "id": "40c23ed7-0ed0-464f-b739-2c0766ed3ddb",
   "metadata": {},
   "outputs": [],
   "source": [
    "#geração de regex genericas com agrupamento de queries\n",
    "\n",
    "from langchain.chains import create_retrieval_chain\n",
    "\n",
    "from langchain.chains.combine_documents import create_stuff_documents_chain\n",
    "\n",
    "prompt = ChatPromptTemplate.from_template(\"\"\"Answer the following question based only on the provided context:\n",
    "\n",
    "<context>\n",
    "{context}\n",
    "</context>\n",
    "\n",
    "Question: {input}\"\"\")\n",
    "\n",
    "document_chain = create_stuff_documents_chain(llm, prompt)\n",
    "\n",
    "retriever = vector.as_retriever()\n",
    "retrieval_chain = create_retrieval_chain(retriever, document_chain)"
   ]
  },
  {
   "cell_type": "code",
   "execution_count": 9,
   "id": "0c86dd3d-94ce-41de-bc9d-a61ca7ecf5c3",
   "metadata": {},
   "outputs": [
    {
     "name": "stdout",
     "output_type": "stream",
     "text": [
      "\n",
      "Based on the provided context, I can infer that the data in the database is related to the government or governance. However, without more specific information or context, it's difficult to provide detailed insights into the data. Some possible insights could include:\n",
      "\n",
      "1. The database may contain information about the structure and organization of the government, such as the hierarchy of officials, departments, or agencies.\n",
      "2. The database may include data on government policies, laws, and regulations, as well as their implementation and enforcement.\n",
      "3. The database may provide information on government spending and budgeting, including allocations for various programs and initiatives.\n",
      "4. The database may contain data on the demographic makeup of the population served by the government, such as age, gender, race, or socioeconomic status.\n",
      "5. The database may offer insights into the public's perceptions and attitudes towards the government, including levels of trust, satisfaction, or dissatisfaction.\n",
      "6. The database may provide information on the government's interactions with other organizations, such as private companies, non-profits, or international bodies.\n",
      "7. The database may contain data on the government's response to various issues or events, such as natural disasters, economic crises, or social movements.\n",
      "8. The database may offer insights into the government's role in promoting social welfare and addressing social issues, such as poverty, inequality, or access to education and healthcare.\n",
      "\n",
      "Again, without more specific information or context, it is difficult to provide more detailed insights into the data in the database.\n"
     ]
    }
   ],
   "source": [
    "from langchain_core.documents import Document\n",
    "\n",
    "print(document_chain.invoke({\n",
    "    \"input\": \"what insights can you give about this data?\",\n",
    "    \"context\": [Document(page_content=\"This is a database about the govement\")]\n",
    "}))"
   ]
  },
  {
   "cell_type": "code",
   "execution_count": 10,
   "id": "71ad4729-27f4-4df4-a92f-3824e425e6bd",
   "metadata": {},
   "outputs": [
    {
     "name": "stdout",
     "output_type": "stream",
     "text": [
      "\n",
      "Based on the provided context, the content of the database appears to be related to various contracts and purchases made by the Prefeitura Municipal de Alcântaras in Ceara, Brazil. The database includes information such as:\n",
      "\n",
      "1. Data: Dates of the contracts and purchases.\n",
      "2. Caderno: Serial numbers of the contracts and purchases.\n",
      "3. Pagina: Page numbers of the contracts and purchases.\n",
      "4. Nome: Names of the contracting parties or the entities involved in the contracts and purchases.\n",
      "5. Publicacao: Amounts of the public tenders and purchases.\n",
      "6. Tекsto: Texts of the contracts and purchases, including the object, scope, and other details.\n",
      "7. Listanegrito: Lists of the contracts and purchases, including the titles or references of the documents.\n",
      "\n",
      "The database also includes information related to the selection of better proposals for future contracts and purchases, as well as the evaluation of tenderers and suppliers.\n"
     ]
    }
   ],
   "source": [
    "response = retrieval_chain.invoke({\"input\": \"what is the content of this database?\"})\n",
    "print(response[\"answer\"])"
   ]
  },
  {
   "cell_type": "code",
   "execution_count": 11,
   "id": "f71dfa52-c181-49c1-bb05-2eb476e99c77",
   "metadata": {},
   "outputs": [
    {
     "name": "stdout",
     "output_type": "stream",
     "text": [
      "\n",
      "Based on the provided context, the general idea of this data appears to be related to a tender or bidding process for a construction project in the city of Russas, CE, Brazil. The data includes a list of registered companies and individuals who have expressed interest in participating in the project, as well as their respective capacities and limitations.\n",
      "\n",
      "The context also mentions the presence of a president of a permanent commission, which suggests that the tender process is being overseen by a formal committee or board. Additionally, the use of terms such as \"licitation,\" \"portaria,\" and \"sub-rogação\" suggest that the project is being managed through a formal legal framework.\n",
      "\n",
      "Overall, the data appears to be related to a specific construction project in Russas, CE, and provides information on the registered participants and their capabilities for the tender process.\n"
     ]
    }
   ],
   "source": [
    "response = retrieval_chain.invoke({\"input\": \"what is the general idea of this data?\"})\n",
    "print(response[\"answer\"])"
   ]
  },
  {
   "cell_type": "code",
   "execution_count": 12,
   "id": "02af9285-f0b1-44f2-b31f-f3e02479ff12",
   "metadata": {},
   "outputs": [
    {
     "ename": "SyntaxError",
     "evalue": "invalid syntax (2021891032.py, line 1)",
     "output_type": "error",
     "traceback": [
      "\u001b[0;36m  Cell \u001b[0;32mIn[12], line 1\u001b[0;36m\u001b[0m\n\u001b[0;31m    import { ChatOllama } from \"@langchain/community/chat_models/ollama\";\u001b[0m\n\u001b[0m           ^\u001b[0m\n\u001b[0;31mSyntaxError\u001b[0m\u001b[0;31m:\u001b[0m invalid syntax\n"
     ]
    }
   ],
   "source": [
    "import { ChatOllama } from \"@langchain/community/chat_models/ollama\";\n",
    "\n",
    "const chatModel = new ChatOllama({\n",
    "  baseUrl: \"http://localhost:11434\", // Default value\n",
    "  model: \"mistral\",\n",
    "});"
   ]
  },
  {
   "cell_type": "code",
   "execution_count": null,
   "id": "47dc47d4-0117-43c4-968d-8d2bc441ff72",
   "metadata": {},
   "outputs": [],
   "source": []
  }
 ],
 "metadata": {
  "kernelspec": {
   "display_name": "Python 3 (ipykernel)",
   "language": "python",
   "name": "python3"
  },
  "language_info": {
   "codemirror_mode": {
    "name": "ipython",
    "version": 3
   },
   "file_extension": ".py",
   "mimetype": "text/x-python",
   "name": "python",
   "nbconvert_exporter": "python",
   "pygments_lexer": "ipython3",
   "version": "3.8.10"
  }
 },
 "nbformat": 4,
 "nbformat_minor": 5
}
